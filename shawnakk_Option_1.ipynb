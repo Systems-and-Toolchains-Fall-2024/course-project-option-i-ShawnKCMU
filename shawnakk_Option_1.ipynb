{
 "cells": [
  {
   "cell_type": "markdown",
   "metadata": {},
   "source": [
    "Task-I: Build and populate necessary tables (30% of course project\n",
    "grade)\n",
    "• Ingest the data from all years (Male: 2015-2022 and Female: 2016-2022) into\n",
    "one Postgres Database table.\n",
    "o Conduct any column name changes to ensure data from various years are\n",
    "properly aligned in the correct columns in your DB table.\n",
    "• Add a new column for the year. Also, ensure every record can be uniquely\n",
    "identified in the database table.\n",
    "• Your tables should be created in schema with the name “fifa”.\n",
    "• In your ReadMe.md, add a description of the features in the dataset.\n",
    "• In your ReadMe.md file, comment on the benefit of using PostgreSQL DB table\n",
    "compared to a NoSQL Database in this case."
   ]
  },
  {
   "cell_type": "code",
   "execution_count": 15,
   "metadata": {},
   "outputs": [
    {
     "name": "stdout",
     "output_type": "stream",
     "text": [
      "Spark session started successfully with PostgreSQL driver\n"
     ]
    }
   ],
   "source": [
    "import pyspark\n",
    "from pyspark.sql import SparkSession\n",
    "from pyspark.sql.functions import col, lit\n",
    "from pyspark.sql.types import StructType, StructField, IntegerType, StringType, FloatType  \n",
    "appName = \"FifaProject\"\n",
    "master = \"local\" \n",
    "spark = SparkSession.builder \\\n",
    "    .appName(appName) \\\n",
    "    .master(master) \\\n",
    "    .config(\"spark.driver.host\", \"127.0.0.1\") \\\n",
    "    .config(\"spark.jars\", \"/Users/kozasound/Desktop/14_763_AISTC/postgresql-42.6.2.jar\") \\\n",
    "    .getOrCreate()\n",
    "print(\"Spark session started successfully with PostgreSQL driver\")"
   ]
  },
  {
   "cell_type": "code",
   "execution_count": 13,
   "metadata": {},
   "outputs": [
    {
     "name": "stdout",
     "output_type": "stream",
     "text": [
      "Data for year 2016, gender: Female written to PostgreSQL.\n",
      "Data for year 2017, gender: Female written to PostgreSQL.\n",
      "Data for year 2018, gender: Female written to PostgreSQL.\n",
      "Data for year 2019, gender: Female written to PostgreSQL.\n",
      "Data for year 2020, gender: Female written to PostgreSQL.\n",
      "Data for year 2021, gender: Female written to PostgreSQL.\n",
      "Data for year 2022, gender: Female written to PostgreSQL.\n"
     ]
    },
    {
     "name": "stderr",
     "output_type": "stream",
     "text": [
      "                                                                                \r"
     ]
    },
    {
     "name": "stdout",
     "output_type": "stream",
     "text": [
      "Data for year 2015, gender: Male written to PostgreSQL.\n"
     ]
    },
    {
     "name": "stderr",
     "output_type": "stream",
     "text": [
      "                                                                                \r"
     ]
    },
    {
     "name": "stdout",
     "output_type": "stream",
     "text": [
      "Data for year 2016, gender: Male written to PostgreSQL.\n"
     ]
    },
    {
     "name": "stderr",
     "output_type": "stream",
     "text": [
      "                                                                                \r"
     ]
    },
    {
     "name": "stdout",
     "output_type": "stream",
     "text": [
      "Data for year 2017, gender: Male written to PostgreSQL.\n"
     ]
    },
    {
     "name": "stderr",
     "output_type": "stream",
     "text": [
      "                                                                                \r"
     ]
    },
    {
     "name": "stdout",
     "output_type": "stream",
     "text": [
      "Data for year 2018, gender: Male written to PostgreSQL.\n"
     ]
    },
    {
     "name": "stderr",
     "output_type": "stream",
     "text": [
      "                                                                                \r"
     ]
    },
    {
     "name": "stdout",
     "output_type": "stream",
     "text": [
      "Data for year 2019, gender: Male written to PostgreSQL.\n"
     ]
    },
    {
     "name": "stderr",
     "output_type": "stream",
     "text": [
      "                                                                                \r"
     ]
    },
    {
     "name": "stdout",
     "output_type": "stream",
     "text": [
      "Data for year 2020, gender: Male written to PostgreSQL.\n"
     ]
    },
    {
     "name": "stderr",
     "output_type": "stream",
     "text": [
      "                                                                                \r"
     ]
    },
    {
     "name": "stdout",
     "output_type": "stream",
     "text": [
      "Data for year 2021, gender: Male written to PostgreSQL.\n"
     ]
    },
    {
     "name": "stderr",
     "output_type": "stream",
     "text": [
      "                                                                                \r"
     ]
    },
    {
     "name": "stdout",
     "output_type": "stream",
     "text": [
      "Data for year 2022, gender: Male written to PostgreSQL.\n",
      "+---------+--------------------+----------+------------------+----------------+-------+---------+---------+--------+---+----------+---------+---------+------------+---------+-----------+------------+-------------+------------------+----------------+-----------+-------------------------+--------------+----------------+--------------+---------------+--------------------+--------------+---------+-----------+------------------------+-------------+----------------+---------+------------------+--------------------+--------------------+----+--------+-------+---------+---------+------+------------------+-------------------+--------------------------+-----------------------+-----------------+---------------+-----------+-----------------+------------------+------------------+---------------------+---------------------+----------------+------------------+----------------+----------------+-------------+-------------+--------------+----------------+--------------------+-----------------------+---------------------+----------------+-------------------+-------------------+---------------------------+-------------------------+------------------------+------------------+--------------------+-------------------+-----------------------+--------------------+-----------------+----+----+----+----+----+----+----+----+----+----+----+----+----+----+----+----+----+----+----+----+----+----+----+----+----+----+----+--------------------+-------------+-------------+--------------------+--------------------+----+------+\n",
      "|sofifa_id|          player_url|short_name|         long_name|player_positions|overall|potential|value_eur|wage_eur|age|       dob|height_cm|weight_kg|club_team_id|club_name|league_name|league_level|club_position|club_jersey_number|club_loaned_from|club_joined|club_contract_valid_until|nationality_id|nationality_name|nation_team_id|nation_position|nation_jersey_number|preferred_foot|weak_foot|skill_moves|international_reputation|    work_rate|       body_type|real_face|release_clause_eur|         player_tags|       player_traits|pace|shooting|passing|dribbling|defending|physic|attacking_crossing|attacking_finishing|attacking_heading_accuracy|attacking_short_passing|attacking_volleys|skill_dribbling|skill_curve|skill_fk_accuracy|skill_long_passing|skill_ball_control|movement_acceleration|movement_sprint_speed|movement_agility|movement_reactions|movement_balance|power_shot_power|power_jumping|power_stamina|power_strength|power_long_shots|mentality_aggression|mentality_interceptions|mentality_positioning|mentality_vision|mentality_penalties|mentality_composure|defending_marking_awareness|defending_standing_tackle|defending_sliding_tackle|goalkeeping_diving|goalkeeping_handling|goalkeeping_kicking|goalkeeping_positioning|goalkeeping_reflexes|goalkeeping_speed|  ls|  st|  rs|  lw|  lf|  cf|  rf|  rw| lam| cam| ram|  lm| lcm|  cm| rcm|  rm| lwb| ldm| cdm| rdm| rwb|  lb| lcb|  cb| rcb|  rb|  gk|     player_face_url|club_logo_url|club_flag_url|     nation_logo_url|     nation_flag_url|year|   sex|\n",
      "+---------+--------------------+----------+------------------+----------------+-------+---------+---------+--------+---+----------+---------+---------+------------+---------+-----------+------------+-------------+------------------+----------------+-----------+-------------------------+--------------+----------------+--------------+---------------+--------------------+--------------+---------+-----------+------------------------+-------------+----------------+---------+------------------+--------------------+--------------------+----+--------+-------+---------+---------+------+------------------+-------------------+--------------------------+-----------------------+-----------------+---------------+-----------+-----------------+------------------+------------------+---------------------+---------------------+----------------+------------------+----------------+----------------+-------------+-------------+--------------+----------------+--------------------+-----------------------+---------------------+----------------+-------------------+-------------------+---------------------------+-------------------------+------------------------+------------------+--------------------+-------------------+-----------------------+--------------------+-----------------+----+----+----+----+----+----+----+----+----+----+----+----+----+----+----+----+----+----+----+----+----+----+----+----+----+----+----+--------------------+-------------+-------------+--------------------+--------------------+----+------+\n",
      "|   226324|https://sofifa.co...|  C. Lloyd|Carli Anne Hollins| CM, CAM, LM, ST|     91|       91|     NULL|    NULL| 32|1982-07-16|      173|       64|        NULL|     NULL|       NULL|        NULL|         NULL|              NULL|            NULL|       NULL|                     NULL|            95|   United States|        113009|            LCM|                  10|         Right|        3|          3|                       5|    High/High|Normal (170-185)|     true|              NULL|#Dribbler, #Playm...|                NULL|  75|      83|     83|       85|       82|    84|                72|                 83|                        71|                     88|               64|             86|         76|               80|                87|                86|                   75|                   75|              74|                91|              77|              81|           77|           92|            81|              89|                  84|                     90|                   90|              86|                 82|               NULL|                         76|                       86|                      79|                11|                   5|                 13|                      8|                  14|             NULL|83+3|83+3|83+3|84+3|85+3|85+3|85+3|84+3|86+3|86+3|86+3|84+3|88+3|88+3|88+3|84+3|83+3|86+3|86+3|86+3|83+3|83+3|82+3|82+3|82+3|83+3|19+3|https://cdn.sofif...|         NULL|         NULL|https://cdn.sofif...|https://cdn.sofif...|2016|Female|\n",
      "|   226328|https://sofifa.co...|M. Rapinoe|Megan Anna Rapinoe|          LM, CM|     90|       90|     NULL|    NULL| 29|1985-07-05|      170|       60|        NULL|     NULL|       NULL|        NULL|         NULL|              NULL|            NULL|       NULL|                     NULL|            95|   United States|        113009|             LM|                  15|          Left|        5|          4|                       5|  High/Medium|   Normal (170-)|     true|              NULL|#Playmaker, #Crosser|                NULL|  74|      74|     90|       89|       46|    68|                94|                 73|                        65|                     93|               72|             92|         86|               78|                91|                91|                   74|                   74|              83|                84|              69|              77|           74|           84|            73|              71|                  35|                     45|                   84|              86|                 84|               NULL|                         42|                       44|                      46|                13|                  10|                 12|                     12|                   9|             NULL|79+3|79+3|79+3|85+3|84+3|84+3|84+3|85+3|86+3|86+3|86+3|87+3|84+3|84+3|84+3|87+3|71+3|68+3|68+3|68+3|71+3|66+3|56+3|56+3|56+3|66+3|19+3|https://cdn.sofif...|         NULL|         NULL|https://cdn.sofif...|https://cdn.sofif...|2016|Female|\n",
      "|   226334|https://sofifa.co...|A. Wambach|      Abby Wambach|              ST|     90|       90|     NULL|    NULL| 35|1980-06-02|      180|       81|        NULL|     NULL|       NULL|        NULL|         NULL|              NULL|            NULL|       NULL|                     NULL|            95|   United States|        113009|             LS|                  20|         Right|        4|          3|                       5|  High/Medium|Normal (170-185)|     true|              NULL|#Aerial Threat, #...|                NULL|  72|      89|     65|       80|       39|    82|                53|                 93|                        91|                     71|               83|             82|         53|               59|                66|                83|                   73|                   72|              56|                91|              75|              86|           62|           74|            94|              83|                  68|                     35|                   91|              71|                 86|               NULL|                         39|                       28|                      27|                10|                  10|                 12|                     12|                  13|             NULL|87+3|87+3|87+3|78+3|83+3|83+3|83+3|78+3|79+3|79+3|79+3|77+3|73+3|73+3|73+3|77+3|57+3|59+3|59+3|59+3|57+3|55+3|55+3|55+3|55+3|55+3|20+3|https://cdn.sofif...|         NULL|         NULL|https://cdn.sofif...|https://cdn.sofif...|2016|Female|\n",
      "|   226362|https://sofifa.co...|  L. Nécib|      Louisa Nécib|         LM, CAM|     90|       90|     NULL|    NULL| 28|1987-01-23|      168|       56|        NULL|     NULL|       NULL|        NULL|         NULL|              NULL|            NULL|       NULL|                     NULL|            18|          France|        113003|             LM|                  14|         Right|        4|          4|                       5|Medium/Medium|   Normal (170-)|     true|              NULL|#Dribbler, #Playm...|Flair, Playmaker ...|  84|      74|     87|       90|       53|    69|                84|                 76|                        58|                     91|               80|             90|         78|               81|                83|                92|                   85|                   83|              91|                89|              78|              72|           54|           80|            68|              67|                  60|                     52|                   84|              91|                 85|               NULL|                         51|                       56|                      44|                11|                  13|                  5|                     13|                  12|             NULL|79+3|79+3|79+3|86+3|85+3|85+3|85+3|86+3|87+3|87+3|87+3|87+3|84+3|84+3|84+3|87+3|73+3|71+3|71+3|71+3|73+3|69+3|61+3|61+3|61+3|69+3|20+3|https://cdn.sofif...|         NULL|         NULL|https://cdn.sofif...|https://cdn.sofif...|2016|Female|\n",
      "|   226373|https://sofifa.co...| N. Keßler|     Nadine Keßler|              CM|     89|       89|     NULL|    NULL| 27|1988-04-04|      169|       61|        NULL|     NULL|       NULL|        NULL|         NULL|              NULL|            NULL|       NULL|                     NULL|            21|         Germany|        113004|            SUB|                   8|         Right|        3|          4|                       5|  High/Medium|   Normal (170-)|     true|              NULL|#Playmaker, #Tact...|Injury Prone, Pla...|  74|      84|     85|       83|       78|    74|                76|                 87|                        76|                     90|               78|             84|         75|               72|                88|                85|                   75|                   73|              73|                91|              73|              80|           69|           77|            73|              82|                  76|                     86|                   86|              88|                 82|               NULL|                         68|                       82|                      77|                11|                  15|                  9|                      9|                   9|             NULL|83+3|83+3|83+3|83+3|85+3|85+3|85+3|83+3|86+3|86+3|86+3|84+3|86+3|86+3|86+3|84+3|81+3|83+3|83+3|83+3|81+3|80+3|79+3|79+3|79+3|80+3|20+3|https://cdn.sofif...|         NULL|         NULL|https://cdn.sofif...|https://cdn.sofif...|2016|Female|\n",
      "+---------+--------------------+----------+------------------+----------------+-------+---------+---------+--------+---+----------+---------+---------+------------+---------+-----------+------------+-------------+------------------+----------------+-----------+-------------------------+--------------+----------------+--------------+---------------+--------------------+--------------+---------+-----------+------------------------+-------------+----------------+---------+------------------+--------------------+--------------------+----+--------+-------+---------+---------+------+------------------+-------------------+--------------------------+-----------------------+-----------------+---------------+-----------+-----------------+------------------+------------------+---------------------+---------------------+----------------+------------------+----------------+----------------+-------------+-------------+--------------+----------------+--------------------+-----------------------+---------------------+----------------+-------------------+-------------------+---------------------------+-------------------------+------------------------+------------------+--------------------+-------------------+-----------------------+--------------------+-----------------+----+----+----+----+----+----+----+----+----+----+----+----+----+----+----+----+----+----+----+----+----+----+----+----+----+----+----+--------------------+-------------+-------------+--------------------+--------------------+----+------+\n",
      "\n"
     ]
    }
   ],
   "source": [
    "from pyspark.sql.functions import lit, when, col\n",
    "from pyspark.sql.types import BooleanType, DoubleType, IntegerType\n",
    "\n",
    "db_properties = {\n",
    "    'user': 'fifaproject',\n",
    "    'password': '18763', \n",
    "    'url': 'jdbc:postgresql://localhost:5432/fifaproject',\n",
    "    'dbtable': 'fifa.players_data',\n",
    "    'driver': 'org.postgresql.Driver'\n",
    "}\n",
    "\n",
    "male_files = [f'/Users/kozasound/Desktop/14_763_AISTC/shawnakk_Project_Option1/archive/players_{year}.csv' for year in range(15, 23)]\n",
    "male_years = [2000 + year for year in range(15, 23)]\n",
    "female_files = [f'/Users/kozasound/Desktop/14_763_AISTC/shawnakk_Project_Option1/archive/female_players_{year}.csv' for year in range(16, 23)]\n",
    "female_years = [2000 + year for year in range(16, 23)]\n",
    "\n",
    "\n",
    "files = female_files + male_files\n",
    "years = female_years + male_years\n",
    "genders = ['Female'] * len(female_files) + ['Male'] * len(male_files)\n",
    "\n",
    "for file, year, gender in zip(files, years, genders):\n",
    "    try:\n",
    "        df = spark.read.csv(file, header=True, inferSchema=True)\n",
    "        df = df.withColumn(\"year\", lit(year)).withColumn(\"sex\", lit(gender))\n",
    "        df = df.select([when(col(c) == \"\", None).otherwise(col(c)).alias(c) for c in df.columns])\n",
    "        columns_to_cast = {\n",
    "            'value_eur': DoubleType(),\n",
    "            'wage_eur': DoubleType(),\n",
    "            'club_team_id': IntegerType(),\n",
    "            'league_level': IntegerType(),\n",
    "            'club_jersey_number': IntegerType()\n",
    "        }\n",
    "        for column, col_type in columns_to_cast.items():\n",
    "            if column in df.columns:\n",
    "                df = df.withColumn(column, col(column).cast(col_type))\n",
    "        if 'real_face' in df.columns:\n",
    "            df = df.withColumn(\"real_face\", when(col(\"real_face\") == \"Yes\", True).when(col(\"real_face\") == \"No\", False).otherwise(None).cast(BooleanType()))\n",
    "        df.write.format(\"jdbc\") \\\n",
    "            .mode(\"append\") \\\n",
    "            .option(\"url\", db_properties['url']) \\\n",
    "            .option(\"dbtable\", db_properties['dbtable']) \\\n",
    "            .option(\"user\", db_properties['user']) \\\n",
    "            .option(\"password\", db_properties['password']) \\\n",
    "            .option(\"driver\", db_properties['driver']) \\\n",
    "            .save()\n",
    "        print(f\"Data for year {year}, gender: {gender} written to PostgreSQL.\")\n",
    "    except Exception as e:\n",
    "        print(f\"An error occurred while processing year {year}, gender: {gender}: {e}\")\n",
    "\n",
    "try:\n",
    "    sample_df = spark.read \\\n",
    "        .format(\"jdbc\") \\\n",
    "        .option(\"url\", db_properties['url']) \\\n",
    "        .option(\"dbtable\", \"(SELECT * FROM fifa.players_data LIMIT 5) AS sample\") \\\n",
    "        .option(\"user\", db_properties['user']) \\\n",
    "        .option(\"password\", db_properties['password']) \\\n",
    "        .option(\"driver\", db_properties['driver']) \\\n",
    "        .load()\n",
    "    sample_df.show()\n",
    "except Exception as e:\n",
    "    print(f\"An error occurred while reading sample data: {e}\")\n",
    "\n",
    "spark.stop()\n"
   ]
  },
  {
   "cell_type": "markdown",
   "metadata": {},
   "source": [
    "Task-II: Conduct analytics on your dataset (20% of course project\n",
    "grade)\n",
    "Develop Python functions that run Spark to answer the following questions (given that x,\n",
    "y and z) are user-entered parameters. Core analysis should be conducted via Spark\n",
    "and data should be ingested from Postgres database.\n",
    "• In Year X, what were the Y clubs that had the highest number of players with\n",
    "contracts ending in year Z (or after)?\n",
    "o X is a year between (2015 and 2022, inclusively).\n",
    "o Y is a positive integer.\n",
    "o Z is a year that can hold the value of 2023 or a year after it.\n",
    "• In sports, maturity and energy of teams depend on the average age of team\n",
    "players (among other factors). Therefore, it’s important to have a function that\n",
    "can find clubs with such features.\n",
    "o List the X clubs with the highest (or lowest) average player age for a given\n",
    "year Y.\n",
    "▪ X represents a positive integer, but you should handle a scenario if\n",
    "X is not positive value.\n",
    "▪ Y represents a year between 2015 and 2022 inclusively.\n",
    "▪ Provide the user with the ability to choose if they want the highest\n",
    "average age or the lowest average age.\n",
    "▪ Make sure to handle this scenario as well: if the user requests 5\n",
    "clubs with highest averages but there are 3 clubs that share the\n",
    "same count at rank number 5, please include all of them in your\n",
    "output\n",
    "• What is the most popular nationality in the dataset for each year? (i.e. display the\n",
    "most frequent nation for 2015, 2016, etc.)."
   ]
  },
  {
   "cell_type": "code",
   "execution_count": 18,
   "metadata": {},
   "outputs": [
    {
     "name": "stdout",
     "output_type": "stream",
     "text": [
      "Bullet Point 1\n",
      "+-------------------+------------+\n",
      "|          club_name|player_count|\n",
      "+-------------------+------------+\n",
      "|   Deportes Iquique|          12|\n",
      "|Patriotas Boyacá FC|          12|\n",
      "|          Al Ain FC|          11|\n",
      "|  Alianza Petrolera|          11|\n",
      "|     Atlético Huila|          11|\n",
      "+-------------------+------------+\n",
      "\n",
      "Bullet Point 2\n",
      "+--------------------+-------+\n",
      "|           club_name|avg_age|\n",
      "+--------------------+-------+\n",
      "|           Fortaleza|   32.6|\n",
      "|            Cruzeiro|   31.6|\n",
      "|Club Athletico Pa...|   31.4|\n",
      "|            Botafogo|   31.4|\n",
      "|Associação Chapec...|   31.4|\n",
      "+--------------------+-------+\n",
      "\n",
      "Bullet Point 3\n",
      "+----+----------------+-----+\n",
      "|year|nationality_name|count|\n",
      "+----+----------------+-----+\n",
      "|2015|         England| 1627|\n",
      "|2016|         England| 1519|\n",
      "|2017|         England| 1627|\n",
      "|2018|         England| 1633|\n",
      "|2019|         England| 1625|\n",
      "|2020|         England| 1670|\n",
      "|2021|         England| 1685|\n",
      "|2022|         England| 1719|\n",
      "+----+----------------+-----+\n",
      "\n"
     ]
    }
   ],
   "source": [
    "from pyspark.sql import SparkSession\n",
    "from pyspark.sql.functions import col, count, max as max_, avg\n",
    "\n",
    "print(\"Bullet Point 1\")\n",
    "def top_clubs_by_contracts(spark, x_year, y_clubs, z_contract):\n",
    "    df = spark.read \\\n",
    "        .format(\"jdbc\") \\\n",
    "        .option(\"url\", \"jdbc:postgresql://localhost:5432/fifaproject\") \\\n",
    "        .option(\"dbtable\", \"fifa.players_data\") \\\n",
    "        .option(\"user\", \"fifaproject\") \\\n",
    "        .option(\"password\", \"18763\") \\\n",
    "        .option(\"driver\", \"org.postgresql.Driver\") \\\n",
    "        .load()\n",
    "    \n",
    "    filt_df = df.filter((col(\"year\") == x_year) & (col(\"club_contract_valid_until\") >= z_contract) & (col(\"sex\") == \"Male\"))\n",
    "    club_counts = filt_df.groupBy(\"club_name\") \\\n",
    "                         .agg(count(\"sofifa_id\").alias(\"player_count\")) \\\n",
    "                         .orderBy(col(\"player_count\").desc()) \\\n",
    "                         .limit(y_clubs)\n",
    "    club_counts.show()\n",
    "\n",
    "top_clubs_by_contracts(spark, 2020, 5, 2024)\n",
    "\n",
    "print(\"Bullet Point 2\")\n",
    "def clubs_by_avg_age(spark, y_year, x_clubs, order='highest'):\n",
    "    df = spark.read.format(\"jdbc\") \\\n",
    "        .option(\"url\", db_properties['url']) \\\n",
    "        .option(\"dbtable\", db_properties['dbtable']) \\\n",
    "        .option(\"user\", db_properties['user']) \\\n",
    "        .option(\"password\", db_properties['password']) \\\n",
    "        .option(\"driver\", db_properties['driver']) \\\n",
    "        .load()\n",
    "    \n",
    "    filt_df = df.filter((col(\"year\") == y_year) & (col(\"sex\") == \"Male\"))\n",
    "    avg_age_df = filt_df.groupBy(\"club_name\").agg(avg(\"age\").alias(\"avg_age\"))\n",
    "    sorted_df = avg_age_df.orderBy(col(\"avg_age\").desc() if order == 'highest' else col(\"avg_age\").asc())\n",
    "    top_df = sorted_df.limit(x_clubs)\n",
    "    max_age = top_df.select(\"avg_age\").collect()[-1][0] if top_df.count() == x_clubs else None\n",
    "    res_df = sorted_df.filter(col(\"avg_age\") >= max_age) if max_age else top_df\n",
    "    res_df.show()\n",
    "\n",
    "clubs_by_avg_age(spark, 2020, 5, order='highest')\n",
    "\n",
    "print(\"Bullet Point 3\")\n",
    "def most_popular_nationality(spark):\n",
    "    df = spark.read.format(\"jdbc\") \\\n",
    "        .option(\"url\", db_properties['url']) \\\n",
    "        .option(\"dbtable\", db_properties['dbtable']) \\\n",
    "        .option(\"user\", db_properties['user']) \\\n",
    "        .option(\"password\", db_properties['password']) \\\n",
    "        .option(\"driver\", db_properties['driver']) \\\n",
    "        .load()\n",
    "    \n",
    "    nat_counts = df.filter(col(\"sex\") == \"Male\").groupBy(\"year\", \"nationality_name\").agg(count(\"*\").alias(\"count\"))\n",
    "    max_per_year = nat_counts.groupBy(\"year\").agg(max_(\"count\").alias(\"max_count\"))\n",
    "    most_popular = nat_counts.alias(\"nc\").join(\n",
    "        max_per_year.alias(\"mpy\"),\n",
    "        (col(\"nc.year\") == col(\"mpy.year\")) & (col(\"nc.count\") == col(\"mpy.max_count\"))\n",
    "    ).select(col(\"nc.year\"), col(\"nc.nationality_name\"), col(\"nc.count\")).orderBy(\"nc.year\")\n",
    "    most_popular.show()\n",
    "\n",
    "most_popular_nationality(spark)\n"
   ]
  }
 ],
 "metadata": {
  "kernelspec": {
   "display_name": "STC18763",
   "language": "python",
   "name": "python3"
  },
  "language_info": {
   "codemirror_mode": {
    "name": "ipython",
    "version": 3
   },
   "file_extension": ".py",
   "mimetype": "text/x-python",
   "name": "python",
   "nbconvert_exporter": "python",
   "pygments_lexer": "ipython3",
   "version": "3.10.14"
  }
 },
 "nbformat": 4,
 "nbformat_minor": 2
}
